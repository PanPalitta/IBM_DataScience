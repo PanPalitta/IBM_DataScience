{
    "cells": [
        {
            "cell_type": "markdown",
            "metadata": {},
            "source": "# IBM Data Science Capstone Project #\n\nThis notebook is used for data science capstone project."
        },
        {
            "cell_type": "markdown",
            "metadata": {},
            "source": "## Introduction ##\n\nIn this project, we aim to predict the severity of traffic accidents from road condition. Although this project is a rudimentary modelling project, when coupled with a map, this type of tool can be used for planning travel routes and time in order to avoid run-in with traffic jams caused by collisions or even being in a collision ourselves. Hence, aside from any driver, this project may be of interest as an extended feature to online map and navigation service providers.\n\n## Data ##\n\nThe data set we will be using is on one on __[collisions in Seattle area](https://s3.us.cloud-object-storage.appdomain.cloud/cf-courses-data/CognitiveClass/DP0701EN/version-2/Data-Collisions.csv)__ collected by SPD with metadata available __[here](https://s3.us.cloud-object-storage.appdomain.cloud/cf-courses-data/CognitiveClass/DP0701EN/version-2/Metadata.pdf)__. \n\nThe collisions are classified into 5 different level of severity: fatality, serious injury, injury, prop damage and unknown. The data also provides detail of the crash, including the type of collision, the parties involved and the number of people killed and injured. The circumstance around the collision is recorded in terms of the road condition, the weather, light condition, whether drugs or alcohol or speeding was involved\n\nGiven this data set, the most straightforward model is to used the circumstances around the collisions as attributes to predict the severity of the collision, disregarding the parties involved and the type of collision in the first attempt of the model for simplicity. Supervised learning will be used to obtain this model as the data is labeled.\n"
        },
        {
            "cell_type": "code",
            "execution_count": 2,
            "metadata": {},
            "outputs": [],
            "source": "#importing the data from data asset\n\nimport types\nimport pandas as pd\nfrom botocore.client import Config\nimport ibm_boto3\n\ndef __iter__(self): return 0"
        },
        {
            "cell_type": "code",
            "execution_count": 3,
            "metadata": {},
            "outputs": [
                {
                    "name": "stderr",
                    "output_type": "stream",
                    "text": "/opt/conda/envs/Python36/lib/python3.6/site-packages/IPython/core/interactiveshell.py:3020: DtypeWarning: Columns (33) have mixed types. Specify dtype option on import or set low_memory=False.\n  interactivity=interactivity, compiler=compiler, result=result)\n"
                },
                {
                    "data": {
                        "text/html": "<div>\n<style scoped>\n    .dataframe tbody tr th:only-of-type {\n        vertical-align: middle;\n    }\n\n    .dataframe tbody tr th {\n        vertical-align: top;\n    }\n\n    .dataframe thead th {\n        text-align: right;\n    }\n</style>\n<table border=\"1\" class=\"dataframe\">\n  <thead>\n    <tr style=\"text-align: right;\">\n      <th></th>\n      <th>SEVERITYCODE</th>\n      <th>X</th>\n      <th>Y</th>\n      <th>OBJECTID</th>\n      <th>INCKEY</th>\n      <th>COLDETKEY</th>\n      <th>REPORTNO</th>\n      <th>STATUS</th>\n      <th>ADDRTYPE</th>\n      <th>INTKEY</th>\n      <th>...</th>\n      <th>ROADCOND</th>\n      <th>LIGHTCOND</th>\n      <th>PEDROWNOTGRNT</th>\n      <th>SDOTCOLNUM</th>\n      <th>SPEEDING</th>\n      <th>ST_COLCODE</th>\n      <th>ST_COLDESC</th>\n      <th>SEGLANEKEY</th>\n      <th>CROSSWALKKEY</th>\n      <th>HITPARKEDCAR</th>\n    </tr>\n  </thead>\n  <tbody>\n    <tr>\n      <th>0</th>\n      <td>2</td>\n      <td>-122.323148</td>\n      <td>47.703140</td>\n      <td>1</td>\n      <td>1307</td>\n      <td>1307</td>\n      <td>3502005</td>\n      <td>Matched</td>\n      <td>Intersection</td>\n      <td>37475.0</td>\n      <td>...</td>\n      <td>Wet</td>\n      <td>Daylight</td>\n      <td>NaN</td>\n      <td>NaN</td>\n      <td>NaN</td>\n      <td>10</td>\n      <td>Entering at angle</td>\n      <td>0</td>\n      <td>0</td>\n      <td>N</td>\n    </tr>\n    <tr>\n      <th>1</th>\n      <td>1</td>\n      <td>-122.347294</td>\n      <td>47.647172</td>\n      <td>2</td>\n      <td>52200</td>\n      <td>52200</td>\n      <td>2607959</td>\n      <td>Matched</td>\n      <td>Block</td>\n      <td>NaN</td>\n      <td>...</td>\n      <td>Wet</td>\n      <td>Dark - Street Lights On</td>\n      <td>NaN</td>\n      <td>6354039.0</td>\n      <td>NaN</td>\n      <td>11</td>\n      <td>From same direction - both going straight - bo...</td>\n      <td>0</td>\n      <td>0</td>\n      <td>N</td>\n    </tr>\n    <tr>\n      <th>2</th>\n      <td>1</td>\n      <td>-122.334540</td>\n      <td>47.607871</td>\n      <td>3</td>\n      <td>26700</td>\n      <td>26700</td>\n      <td>1482393</td>\n      <td>Matched</td>\n      <td>Block</td>\n      <td>NaN</td>\n      <td>...</td>\n      <td>Dry</td>\n      <td>Daylight</td>\n      <td>NaN</td>\n      <td>4323031.0</td>\n      <td>NaN</td>\n      <td>32</td>\n      <td>One parked--one moving</td>\n      <td>0</td>\n      <td>0</td>\n      <td>N</td>\n    </tr>\n    <tr>\n      <th>3</th>\n      <td>1</td>\n      <td>-122.334803</td>\n      <td>47.604803</td>\n      <td>4</td>\n      <td>1144</td>\n      <td>1144</td>\n      <td>3503937</td>\n      <td>Matched</td>\n      <td>Block</td>\n      <td>NaN</td>\n      <td>...</td>\n      <td>Dry</td>\n      <td>Daylight</td>\n      <td>NaN</td>\n      <td>NaN</td>\n      <td>NaN</td>\n      <td>23</td>\n      <td>From same direction - all others</td>\n      <td>0</td>\n      <td>0</td>\n      <td>N</td>\n    </tr>\n    <tr>\n      <th>4</th>\n      <td>2</td>\n      <td>-122.306426</td>\n      <td>47.545739</td>\n      <td>5</td>\n      <td>17700</td>\n      <td>17700</td>\n      <td>1807429</td>\n      <td>Matched</td>\n      <td>Intersection</td>\n      <td>34387.0</td>\n      <td>...</td>\n      <td>Wet</td>\n      <td>Daylight</td>\n      <td>NaN</td>\n      <td>4028032.0</td>\n      <td>NaN</td>\n      <td>10</td>\n      <td>Entering at angle</td>\n      <td>0</td>\n      <td>0</td>\n      <td>N</td>\n    </tr>\n  </tbody>\n</table>\n<p>5 rows \u00d7 38 columns</p>\n</div>",
                        "text/plain": "   SEVERITYCODE           X          Y  OBJECTID  INCKEY  COLDETKEY REPORTNO  \\\n0             2 -122.323148  47.703140         1    1307       1307  3502005   \n1             1 -122.347294  47.647172         2   52200      52200  2607959   \n2             1 -122.334540  47.607871         3   26700      26700  1482393   \n3             1 -122.334803  47.604803         4    1144       1144  3503937   \n4             2 -122.306426  47.545739         5   17700      17700  1807429   \n\n    STATUS      ADDRTYPE   INTKEY  ... ROADCOND                LIGHTCOND  \\\n0  Matched  Intersection  37475.0  ...      Wet                 Daylight   \n1  Matched         Block      NaN  ...      Wet  Dark - Street Lights On   \n2  Matched         Block      NaN  ...      Dry                 Daylight   \n3  Matched         Block      NaN  ...      Dry                 Daylight   \n4  Matched  Intersection  34387.0  ...      Wet                 Daylight   \n\n  PEDROWNOTGRNT  SDOTCOLNUM SPEEDING ST_COLCODE  \\\n0           NaN         NaN      NaN         10   \n1           NaN   6354039.0      NaN         11   \n2           NaN   4323031.0      NaN         32   \n3           NaN         NaN      NaN         23   \n4           NaN   4028032.0      NaN         10   \n\n                                          ST_COLDESC  SEGLANEKEY  \\\n0                                  Entering at angle           0   \n1  From same direction - both going straight - bo...           0   \n2                             One parked--one moving           0   \n3                   From same direction - all others           0   \n4                                  Entering at angle           0   \n\n   CROSSWALKKEY  HITPARKEDCAR  \n0             0             N  \n1             0             N  \n2             0             N  \n3             0             N  \n4             0             N  \n\n[5 rows x 38 columns]"
                    },
                    "execution_count": 3,
                    "metadata": {},
                    "output_type": "execute_result"
                }
            ],
            "source": "# The code was removed by Watson Studio for sharing."
        },
        {
            "cell_type": "markdown",
            "metadata": {},
            "source": "## Methodology ##\n\n"
        },
        {
            "cell_type": "code",
            "execution_count": 4,
            "metadata": {},
            "outputs": [],
            "source": "#For importing libraries\nimport numpy as np\n"
        },
        {
            "cell_type": "code",
            "execution_count": 26,
            "metadata": {},
            "outputs": [
                {
                    "data": {
                        "text/html": "<div>\n<style scoped>\n    .dataframe tbody tr th:only-of-type {\n        vertical-align: middle;\n    }\n\n    .dataframe tbody tr th {\n        vertical-align: top;\n    }\n\n    .dataframe thead th {\n        text-align: right;\n    }\n</style>\n<table border=\"1\" class=\"dataframe\">\n  <thead>\n    <tr style=\"text-align: right;\">\n      <th></th>\n      <th>INATTENTIONIND</th>\n      <th>UNDERINFL</th>\n      <th>WEATHER</th>\n      <th>ROADCOND</th>\n      <th>LIGHTCOND</th>\n      <th>SPEEDING</th>\n    </tr>\n  </thead>\n  <tbody>\n    <tr>\n      <th>0</th>\n      <td>NaN</td>\n      <td>N</td>\n      <td>Overcast</td>\n      <td>Wet</td>\n      <td>Daylight</td>\n      <td>NaN</td>\n    </tr>\n    <tr>\n      <th>1</th>\n      <td>NaN</td>\n      <td>0</td>\n      <td>Raining</td>\n      <td>Wet</td>\n      <td>Dark - Street Lights On</td>\n      <td>NaN</td>\n    </tr>\n    <tr>\n      <th>2</th>\n      <td>NaN</td>\n      <td>0</td>\n      <td>Overcast</td>\n      <td>Dry</td>\n      <td>Daylight</td>\n      <td>NaN</td>\n    </tr>\n    <tr>\n      <th>3</th>\n      <td>NaN</td>\n      <td>N</td>\n      <td>Clear</td>\n      <td>Dry</td>\n      <td>Daylight</td>\n      <td>NaN</td>\n    </tr>\n    <tr>\n      <th>4</th>\n      <td>NaN</td>\n      <td>0</td>\n      <td>Raining</td>\n      <td>Wet</td>\n      <td>Daylight</td>\n      <td>NaN</td>\n    </tr>\n  </tbody>\n</table>\n</div>",
                        "text/plain": "  INATTENTIONIND UNDERINFL   WEATHER ROADCOND                LIGHTCOND  \\\n0            NaN         N  Overcast      Wet                 Daylight   \n1            NaN         0   Raining      Wet  Dark - Street Lights On   \n2            NaN         0  Overcast      Dry                 Daylight   \n3            NaN         N     Clear      Dry                 Daylight   \n4            NaN         0   Raining      Wet                 Daylight   \n\n  SPEEDING  \n0      NaN  \n1      NaN  \n2      NaN  \n3      NaN  \n4      NaN  "
                    },
                    "execution_count": 26,
                    "metadata": {},
                    "output_type": "execute_result"
                }
            ],
            "source": "#First we will create the dataframe that contains only the attributes that we will use and the target with just the severity code.\nX = df_collision[['INATTENTIONIND','UNDERINFL','WEATHER','ROADCOND','LIGHTCOND','SPEEDING']]\nX.head()"
        },
        {
            "cell_type": "code",
            "execution_count": 27,
            "metadata": {},
            "outputs": [
                {
                    "data": {
                        "text/html": "<div>\n<style scoped>\n    .dataframe tbody tr th:only-of-type {\n        vertical-align: middle;\n    }\n\n    .dataframe tbody tr th {\n        vertical-align: top;\n    }\n\n    .dataframe thead th {\n        text-align: right;\n    }\n</style>\n<table border=\"1\" class=\"dataframe\">\n  <thead>\n    <tr style=\"text-align: right;\">\n      <th></th>\n      <th>SEVERITYCODE</th>\n    </tr>\n  </thead>\n  <tbody>\n    <tr>\n      <th>0</th>\n      <td>2</td>\n    </tr>\n    <tr>\n      <th>1</th>\n      <td>1</td>\n    </tr>\n    <tr>\n      <th>2</th>\n      <td>1</td>\n    </tr>\n    <tr>\n      <th>3</th>\n      <td>1</td>\n    </tr>\n    <tr>\n      <th>4</th>\n      <td>2</td>\n    </tr>\n  </tbody>\n</table>\n</div>",
                        "text/plain": "   SEVERITYCODE\n0             2\n1             1\n2             1\n3             1\n4             2"
                    },
                    "execution_count": 27,
                    "metadata": {},
                    "output_type": "execute_result"
                }
            ],
            "source": "Y=df_collision[['SEVERITYCODE']]\nY.head()"
        },
        {
            "cell_type": "code",
            "execution_count": 36,
            "metadata": {},
            "outputs": [],
            "source": "##Now we need to pre-process X\n\n#Let's start with INATTENTION column\n#X['INATTENTIONIND'].unique()\n#The output is [nan, 'Y'] but it should be Y/N only, so we're converting Y->1 and nan->0\nX['INATTENTIONIND'].fillna(0, inplace=True)\nX['INATTENTIONIND'].replace('Y',1, inplace=True)\n\nX['UNDERINFL'].unique() \n#The ouput is ['N', '0', nan, '1', 'Y'] but we only want yes and no without the need to know if it's drug or alcohol, so we'll convert anything to 0 and 1\nX['UNDERINFL'].replace('Y',1, inplace=True)\nX['UNDERINFL'].replace('1',1, inplace=True)\nX['UNDERINFL'].replace('N',0, inplace=True)\nX['UNDERINFL'].replace('0',0, inplace=True)\n#check how many nan\nX['UNDERINFL'].isna().sum() #4884 rows, a lot. Let's say no drug or alcohol is involved. Innocence until proven guilty.\nX['UNDERINFL'].fillna(0, inplace=True) \n\n#Now let's work on speeding\nX['SPEEDING'].unique()\n#Again we have [nan, 'Y'] instead of Y/N\nX['SPEEDING'].fillna(0, inplace=True)\nX['SPEEDING'].replace('Y',1, inplace=True)\n"
        },
        {
            "cell_type": "code",
            "execution_count": 40,
            "metadata": {},
            "outputs": [
                {
                    "data": {
                        "text/html": "<div>\n<style scoped>\n    .dataframe tbody tr th:only-of-type {\n        vertical-align: middle;\n    }\n\n    .dataframe tbody tr th {\n        vertical-align: top;\n    }\n\n    .dataframe thead th {\n        text-align: right;\n    }\n</style>\n<table border=\"1\" class=\"dataframe\">\n  <thead>\n    <tr style=\"text-align: right;\">\n      <th></th>\n      <th>INATTENTIONIND</th>\n      <th>UNDERINFL</th>\n      <th>WEATHER</th>\n      <th>ROADCOND</th>\n      <th>LIGHTCOND</th>\n      <th>SPEEDING</th>\n    </tr>\n  </thead>\n  <tbody>\n    <tr>\n      <th>0</th>\n      <td>0</td>\n      <td>0.0</td>\n      <td>0</td>\n      <td>Wet</td>\n      <td>Daylight</td>\n      <td>0</td>\n    </tr>\n    <tr>\n      <th>1</th>\n      <td>0</td>\n      <td>0.0</td>\n      <td>1</td>\n      <td>Wet</td>\n      <td>Dark - Street Lights On</td>\n      <td>0</td>\n    </tr>\n    <tr>\n      <th>2</th>\n      <td>0</td>\n      <td>0.0</td>\n      <td>0</td>\n      <td>Dry</td>\n      <td>Daylight</td>\n      <td>0</td>\n    </tr>\n    <tr>\n      <th>3</th>\n      <td>0</td>\n      <td>0.0</td>\n      <td>0</td>\n      <td>Dry</td>\n      <td>Daylight</td>\n      <td>0</td>\n    </tr>\n    <tr>\n      <th>4</th>\n      <td>0</td>\n      <td>0.0</td>\n      <td>1</td>\n      <td>Wet</td>\n      <td>Daylight</td>\n      <td>0</td>\n    </tr>\n  </tbody>\n</table>\n</div>",
                        "text/plain": "   INATTENTIONIND  UNDERINFL  WEATHER ROADCOND                LIGHTCOND  \\\n0               0        0.0        0      Wet                 Daylight   \n1               0        0.0        1      Wet  Dark - Street Lights On   \n2               0        0.0        0      Dry                 Daylight   \n3               0        0.0        0      Dry                 Daylight   \n4               0        0.0        1      Wet                 Daylight   \n\n   SPEEDING  \n0         0  \n1         0  \n2         0  \n3         0  \n4         0  "
                    },
                    "execution_count": 40,
                    "metadata": {},
                    "output_type": "execute_result"
                }
            ],
            "source": "#Now we look into how to procss the columns with text input\n\nX['WEATHER'].unique()\n\n#So the result is \n#['Overcast', 'Raining', 'Clear', nan, 'Unknown', 'Other', 'Snowing',\n#       'Fog/Smog/Smoke', 'Sleet/Hail/Freezing Rain', 'Blowing Sand/Dirt',\n#       'Severe Crosswind', 'Partly Cloudy'\n\n#We should be able to group these inputs in the 3 categories: not an obstruction to driving (0), obstruction to driving (1), and unknown (2)\n# (2) nan, 'Unknown', 'Other'\n# (0)'Clear', 'Overcast', Partly Cloudy'\n# (1)'Snowing', 'Fog/Smog/Smoke', 'Sleet/Hail/Freezing Rain', 'Blowing Sand/Dirt', 'Severe Crosswind', 'Raining'\n\n#Unknown category\nX['WEATHER'].fillna(2, inplace=True)\nX['WEATHER'].replace('Unknown',2, inplace=True)\nX['WEATHER'].replace('Other',2, inplace=True)\n\n#Clear category\nX['WEATHER'].replace('Clear',0, inplace=True)\nX['WEATHER'].replace('Overcast',0, inplace=True)\nX['WEATHER'].replace('Partly Cloudy',0, inplace=True)\n\n#Obstructive\nX['WEATHER'].replace('Snowing',1, inplace=True)\nX['WEATHER'].replace('Fog/Smog/Smoke',1, inplace=True)\nX['WEATHER'].replace('Sleet/Hail/Freezing Rain',1, inplace=True)\nX['WEATHER'].replace('Blowing Sand/Dirt',1, inplace=True)\nX['WEATHER'].replace('Severe Crosswind',1, inplace=True)\nX['WEATHER'].replace('Raining',1, inplace=True)\n\nX.head()"
        },
        {
            "cell_type": "code",
            "execution_count": 43,
            "metadata": {},
            "outputs": [
                {
                    "data": {
                        "text/html": "<div>\n<style scoped>\n    .dataframe tbody tr th:only-of-type {\n        vertical-align: middle;\n    }\n\n    .dataframe tbody tr th {\n        vertical-align: top;\n    }\n\n    .dataframe thead th {\n        text-align: right;\n    }\n</style>\n<table border=\"1\" class=\"dataframe\">\n  <thead>\n    <tr style=\"text-align: right;\">\n      <th></th>\n      <th>INATTENTIONIND</th>\n      <th>UNDERINFL</th>\n      <th>WEATHER</th>\n      <th>ROADCOND</th>\n      <th>LIGHTCOND</th>\n      <th>SPEEDING</th>\n    </tr>\n  </thead>\n  <tbody>\n    <tr>\n      <th>0</th>\n      <td>0</td>\n      <td>0.0</td>\n      <td>0</td>\n      <td>1</td>\n      <td>Daylight</td>\n      <td>0</td>\n    </tr>\n    <tr>\n      <th>1</th>\n      <td>0</td>\n      <td>0.0</td>\n      <td>1</td>\n      <td>1</td>\n      <td>Dark - Street Lights On</td>\n      <td>0</td>\n    </tr>\n    <tr>\n      <th>2</th>\n      <td>0</td>\n      <td>0.0</td>\n      <td>0</td>\n      <td>0</td>\n      <td>Daylight</td>\n      <td>0</td>\n    </tr>\n    <tr>\n      <th>3</th>\n      <td>0</td>\n      <td>0.0</td>\n      <td>0</td>\n      <td>0</td>\n      <td>Daylight</td>\n      <td>0</td>\n    </tr>\n    <tr>\n      <th>4</th>\n      <td>0</td>\n      <td>0.0</td>\n      <td>1</td>\n      <td>1</td>\n      <td>Daylight</td>\n      <td>0</td>\n    </tr>\n  </tbody>\n</table>\n</div>",
                        "text/plain": "   INATTENTIONIND  UNDERINFL  WEATHER  ROADCOND                LIGHTCOND  \\\n0               0        0.0        0         1                 Daylight   \n1               0        0.0        1         1  Dark - Street Lights On   \n2               0        0.0        0         0                 Daylight   \n3               0        0.0        0         0                 Daylight   \n4               0        0.0        1         1                 Daylight   \n\n   SPEEDING  \n0         0  \n1         0  \n2         0  \n3         0  \n4         0  "
                    },
                    "execution_count": 43,
                    "metadata": {},
                    "output_type": "execute_result"
                }
            ],
            "source": "X['ROADCOND'].unique()\n\n#The result is \n# ['Wet', 'Dry', nan, 'Unknown', 'Snow/Slush', 'Ice', 'Other',\n#       'Sand/Mud/Dirt', 'Standing Water', 'Oil']\n\n#Again, let's divide into 3 categories\n# (2) nan, 'Unknown', 'Other',\n# (0) 'Dry',\n# (1) 'Wet', 'Snow/Slush', 'Ice', 'Sand/Mud/Dirt', 'Standing Water', 'Oil'\n\n#Unknown category\nX['ROADCOND'].fillna(2, inplace=True)\nX['ROADCOND'].replace('Unknown',2, inplace=True)\nX['ROADCOND'].replace('Other',2, inplace=True)\n\n#Clear category\nX['ROADCOND'].replace('Dry',0, inplace=True)\n\n#Obstructive\nX['ROADCOND'].replace('Wet',1, inplace=True)\nX['ROADCOND'].replace('Snow/Slush',1, inplace=True)\nX['ROADCOND'].replace('Ice',1, inplace=True)\nX['ROADCOND'].replace('Sand/Mud/Dirt',1, inplace=True)\nX['ROADCOND'].replace('Standing Water',1, inplace=True)\nX['ROADCOND'].replace('Oil',1, inplace=True)\n    \nX.head()"
        },
        {
            "cell_type": "code",
            "execution_count": 46,
            "metadata": {},
            "outputs": [
                {
                    "data": {
                        "text/plain": "array(['Daylight', 'Dark - Street Lights On', 'Dark - No Street Lights',\n       nan, 'Unknown', 'Dusk', 'Dawn', 'Dark - Street Lights Off',\n       'Other', 'Dark - Unknown Lighting'], dtype=object)"
                    },
                    "execution_count": 46,
                    "metadata": {},
                    "output_type": "execute_result"
                }
            ],
            "source": "X['LIGHTCOND'].unique()\n\n#The result is ['Daylight', 'Dark - Street Lights On', 'Dark - No Street Lights',\n#       nan, 'Unknown', 'Dusk', 'Dawn', 'Dark - Street Lights Off',\n#       'Other', 'Dark - Unknown Lighting']\n\n# (2) nan, 'Unknown',\n# (0) 'Daylight',\n# (1)"
        },
        {
            "cell_type": "code",
            "execution_count": null,
            "metadata": {},
            "outputs": [],
            "source": ""
        }
    ],
    "metadata": {
        "kernelspec": {
            "display_name": "Python 3.6",
            "language": "python",
            "name": "python3"
        },
        "language_info": {
            "codemirror_mode": {
                "name": "ipython",
                "version": 3
            },
            "file_extension": ".py",
            "mimetype": "text/x-python",
            "name": "python",
            "nbconvert_exporter": "python",
            "pygments_lexer": "ipython3",
            "version": "3.6.9"
        }
    },
    "nbformat": 4,
    "nbformat_minor": 1
}