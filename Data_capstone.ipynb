{
    "cells": [
        {
            "cell_type": "markdown",
            "metadata": {},
            "source": "# IBM Data Science Capstone Project #\n\nThis notebook is used for data science capstone project."
        },
        {
            "cell_type": "markdown",
            "metadata": {},
            "source": "## Introduction ##\n\nIn this project, we aim to predict the severity of traffic accidents from road condition. Although this project is a rudimentary modelling project, when coupled with a map, this type of tool can be used for planning travel routes and time in order to avoid run-in with traffic jams caused by collisions or even being in a collision ourselves. Hence, aside from any driver, this project may be of interest as an extended feature to online map and navigation service providers.\n\n## Data ##\n\nThe data set we will be using is on one on __[collisions in Seattle area](https://s3.us.cloud-object-storage.appdomain.cloud/cf-courses-data/CognitiveClass/DP0701EN/version-2/Data-Collisions.csv)__ collected by SPD with metadata available __[here](https://s3.us.cloud-object-storage.appdomain.cloud/cf-courses-data/CognitiveClass/DP0701EN/version-2/Metadata.pdf)__. \n\nThe collisions are classified into 5 different level of severity: fatality, serious injury, injury, prop damage and unknown. The data also provides detail of the crash, including the type of collision, the parties involved and the number of people killed and injured. The circumstance around the collision is recorded in terms of the road condition, the weather, light condition, whether drugs or alcohol or speeding was involved\n\nGiven this data set, the most straightforward model is to used the circumstances around the collisions as attributes to predict the severity of the collision, disregarding the parties involved and the type of collision in the first attempt of the model for simplicity. Supervised learning will be used to obtain this model as the data is labeled.\n\nExample of data is provided below.\n"
        },
        {
            "cell_type": "code",
            "execution_count": 1,
            "metadata": {},
            "outputs": [],
            "source": "#importing the data from data asset\n\nimport types\nimport pandas as pd\nfrom botocore.client import Config\nimport ibm_boto3\n\ndef __iter__(self): return 0"
        },
        {
            "cell_type": "code",
            "execution_count": 2,
            "metadata": {
                "scrolled": true
            },
            "outputs": [
                {
                    "name": "stderr",
                    "output_type": "stream",
                    "text": "/opt/conda/envs/Python36/lib/python3.6/site-packages/IPython/core/interactiveshell.py:3020: DtypeWarning: Columns (33) have mixed types. Specify dtype option on import or set low_memory=False.\n  interactivity=interactivity, compiler=compiler, result=result)\n"
                },
                {
                    "data": {
                        "text/html": "<div>\n<style scoped>\n    .dataframe tbody tr th:only-of-type {\n        vertical-align: middle;\n    }\n\n    .dataframe tbody tr th {\n        vertical-align: top;\n    }\n\n    .dataframe thead th {\n        text-align: right;\n    }\n</style>\n<table border=\"1\" class=\"dataframe\">\n  <thead>\n    <tr style=\"text-align: right;\">\n      <th></th>\n      <th>SEVERITYCODE</th>\n      <th>X</th>\n      <th>Y</th>\n      <th>OBJECTID</th>\n      <th>INCKEY</th>\n      <th>COLDETKEY</th>\n      <th>REPORTNO</th>\n      <th>STATUS</th>\n      <th>ADDRTYPE</th>\n      <th>INTKEY</th>\n      <th>...</th>\n      <th>ROADCOND</th>\n      <th>LIGHTCOND</th>\n      <th>PEDROWNOTGRNT</th>\n      <th>SDOTCOLNUM</th>\n      <th>SPEEDING</th>\n      <th>ST_COLCODE</th>\n      <th>ST_COLDESC</th>\n      <th>SEGLANEKEY</th>\n      <th>CROSSWALKKEY</th>\n      <th>HITPARKEDCAR</th>\n    </tr>\n  </thead>\n  <tbody>\n    <tr>\n      <th>0</th>\n      <td>2</td>\n      <td>-122.323148</td>\n      <td>47.703140</td>\n      <td>1</td>\n      <td>1307</td>\n      <td>1307</td>\n      <td>3502005</td>\n      <td>Matched</td>\n      <td>Intersection</td>\n      <td>37475.0</td>\n      <td>...</td>\n      <td>Wet</td>\n      <td>Daylight</td>\n      <td>NaN</td>\n      <td>NaN</td>\n      <td>NaN</td>\n      <td>10</td>\n      <td>Entering at angle</td>\n      <td>0</td>\n      <td>0</td>\n      <td>N</td>\n    </tr>\n    <tr>\n      <th>1</th>\n      <td>1</td>\n      <td>-122.347294</td>\n      <td>47.647172</td>\n      <td>2</td>\n      <td>52200</td>\n      <td>52200</td>\n      <td>2607959</td>\n      <td>Matched</td>\n      <td>Block</td>\n      <td>NaN</td>\n      <td>...</td>\n      <td>Wet</td>\n      <td>Dark - Street Lights On</td>\n      <td>NaN</td>\n      <td>6354039.0</td>\n      <td>NaN</td>\n      <td>11</td>\n      <td>From same direction - both going straight - bo...</td>\n      <td>0</td>\n      <td>0</td>\n      <td>N</td>\n    </tr>\n    <tr>\n      <th>2</th>\n      <td>1</td>\n      <td>-122.334540</td>\n      <td>47.607871</td>\n      <td>3</td>\n      <td>26700</td>\n      <td>26700</td>\n      <td>1482393</td>\n      <td>Matched</td>\n      <td>Block</td>\n      <td>NaN</td>\n      <td>...</td>\n      <td>Dry</td>\n      <td>Daylight</td>\n      <td>NaN</td>\n      <td>4323031.0</td>\n      <td>NaN</td>\n      <td>32</td>\n      <td>One parked--one moving</td>\n      <td>0</td>\n      <td>0</td>\n      <td>N</td>\n    </tr>\n    <tr>\n      <th>3</th>\n      <td>1</td>\n      <td>-122.334803</td>\n      <td>47.604803</td>\n      <td>4</td>\n      <td>1144</td>\n      <td>1144</td>\n      <td>3503937</td>\n      <td>Matched</td>\n      <td>Block</td>\n      <td>NaN</td>\n      <td>...</td>\n      <td>Dry</td>\n      <td>Daylight</td>\n      <td>NaN</td>\n      <td>NaN</td>\n      <td>NaN</td>\n      <td>23</td>\n      <td>From same direction - all others</td>\n      <td>0</td>\n      <td>0</td>\n      <td>N</td>\n    </tr>\n    <tr>\n      <th>4</th>\n      <td>2</td>\n      <td>-122.306426</td>\n      <td>47.545739</td>\n      <td>5</td>\n      <td>17700</td>\n      <td>17700</td>\n      <td>1807429</td>\n      <td>Matched</td>\n      <td>Intersection</td>\n      <td>34387.0</td>\n      <td>...</td>\n      <td>Wet</td>\n      <td>Daylight</td>\n      <td>NaN</td>\n      <td>4028032.0</td>\n      <td>NaN</td>\n      <td>10</td>\n      <td>Entering at angle</td>\n      <td>0</td>\n      <td>0</td>\n      <td>N</td>\n    </tr>\n  </tbody>\n</table>\n<p>5 rows \u00d7 38 columns</p>\n</div>",
                        "text/plain": "   SEVERITYCODE           X          Y  OBJECTID  INCKEY  COLDETKEY REPORTNO  \\\n0             2 -122.323148  47.703140         1    1307       1307  3502005   \n1             1 -122.347294  47.647172         2   52200      52200  2607959   \n2             1 -122.334540  47.607871         3   26700      26700  1482393   \n3             1 -122.334803  47.604803         4    1144       1144  3503937   \n4             2 -122.306426  47.545739         5   17700      17700  1807429   \n\n    STATUS      ADDRTYPE   INTKEY  ... ROADCOND                LIGHTCOND  \\\n0  Matched  Intersection  37475.0  ...      Wet                 Daylight   \n1  Matched         Block      NaN  ...      Wet  Dark - Street Lights On   \n2  Matched         Block      NaN  ...      Dry                 Daylight   \n3  Matched         Block      NaN  ...      Dry                 Daylight   \n4  Matched  Intersection  34387.0  ...      Wet                 Daylight   \n\n  PEDROWNOTGRNT  SDOTCOLNUM SPEEDING ST_COLCODE  \\\n0           NaN         NaN      NaN         10   \n1           NaN   6354039.0      NaN         11   \n2           NaN   4323031.0      NaN         32   \n3           NaN         NaN      NaN         23   \n4           NaN   4028032.0      NaN         10   \n\n                                          ST_COLDESC  SEGLANEKEY  \\\n0                                  Entering at angle           0   \n1  From same direction - both going straight - bo...           0   \n2                             One parked--one moving           0   \n3                   From same direction - all others           0   \n4                                  Entering at angle           0   \n\n   CROSSWALKKEY  HITPARKEDCAR  \n0             0             N  \n1             0             N  \n2             0             N  \n3             0             N  \n4             0             N  \n\n[5 rows x 38 columns]"
                    },
                    "execution_count": 2,
                    "metadata": {},
                    "output_type": "execute_result"
                }
            ],
            "source": "# The code was removed by Watson Studio for sharing."
        },
        {
            "cell_type": "markdown",
            "metadata": {},
            "source": "## Methodology ##\n\nThe processing of data are splitted into two steps. The first step is data pre-processing, where we take the data from the source described in the Data section and create the dataframes. Furthermore, the categorial data that are collected as strings are described as strings are transformed into integers so that they can be used for classification. The dataframe is then split into training and testing set for the classification.\n\nThe second step is then to learn the model. Here we focus on classification model as the data, both in the attributes and the target are categorial, and so we fit the data to four different models covered in this course: K nearest neighbour, decision tree, logistic regression, or support vector machine. For each of this model, we explore the available metaparameter to optimize the model for our problem."
        },
        {
            "cell_type": "markdown",
            "metadata": {},
            "source": "### Data Pre-processing ###\n\nIn this part, we focus on constructing the dataframe that we will use to learn the classification model later on. First, we choose the attributes from the columns in the data that we deem are relevant to the collusion, that is 'INATTENTIONIND','UNDERINFL','WEATHER','ROADCOND','LIGHTCOND', and 'SPEEDING' and constructing a new dataframe before replacing all string entry with integer entry to represent the categories."
        },
        {
            "cell_type": "code",
            "execution_count": 3,
            "metadata": {},
            "outputs": [],
            "source": "#For importing libraries\nimport numpy as np\nimport matplotlib.pyplot as plt\nimport seaborn as sns"
        },
        {
            "cell_type": "code",
            "execution_count": 4,
            "metadata": {},
            "outputs": [
                {
                    "data": {
                        "text/html": "<div>\n<style scoped>\n    .dataframe tbody tr th:only-of-type {\n        vertical-align: middle;\n    }\n\n    .dataframe tbody tr th {\n        vertical-align: top;\n    }\n\n    .dataframe thead th {\n        text-align: right;\n    }\n</style>\n<table border=\"1\" class=\"dataframe\">\n  <thead>\n    <tr style=\"text-align: right;\">\n      <th></th>\n      <th>INATTENTIONIND</th>\n      <th>UNDERINFL</th>\n      <th>SPEEDING</th>\n      <th>WEATHER</th>\n      <th>ROADCOND</th>\n      <th>LIGHTCOND</th>\n    </tr>\n  </thead>\n  <tbody>\n    <tr>\n      <th>0</th>\n      <td>NaN</td>\n      <td>N</td>\n      <td>NaN</td>\n      <td>Overcast</td>\n      <td>Wet</td>\n      <td>Daylight</td>\n    </tr>\n    <tr>\n      <th>1</th>\n      <td>NaN</td>\n      <td>0</td>\n      <td>NaN</td>\n      <td>Raining</td>\n      <td>Wet</td>\n      <td>Dark - Street Lights On</td>\n    </tr>\n    <tr>\n      <th>2</th>\n      <td>NaN</td>\n      <td>0</td>\n      <td>NaN</td>\n      <td>Overcast</td>\n      <td>Dry</td>\n      <td>Daylight</td>\n    </tr>\n    <tr>\n      <th>3</th>\n      <td>NaN</td>\n      <td>N</td>\n      <td>NaN</td>\n      <td>Clear</td>\n      <td>Dry</td>\n      <td>Daylight</td>\n    </tr>\n    <tr>\n      <th>4</th>\n      <td>NaN</td>\n      <td>0</td>\n      <td>NaN</td>\n      <td>Raining</td>\n      <td>Wet</td>\n      <td>Daylight</td>\n    </tr>\n  </tbody>\n</table>\n</div>",
                        "text/plain": "  INATTENTIONIND UNDERINFL SPEEDING   WEATHER ROADCOND  \\\n0            NaN         N      NaN  Overcast      Wet   \n1            NaN         0      NaN   Raining      Wet   \n2            NaN         0      NaN  Overcast      Dry   \n3            NaN         N      NaN     Clear      Dry   \n4            NaN         0      NaN   Raining      Wet   \n\n                 LIGHTCOND  \n0                 Daylight  \n1  Dark - Street Lights On  \n2                 Daylight  \n3                 Daylight  \n4                 Daylight  "
                    },
                    "execution_count": 4,
                    "metadata": {},
                    "output_type": "execute_result"
                }
            ],
            "source": "#First we will create the dataframe that contains only the attributes that we will use and the target with just the severity code.\nX = df_collision[['INATTENTIONIND','UNDERINFL','SPEEDING','WEATHER','ROADCOND','LIGHTCOND']]\nX.head()"
        },
        {
            "cell_type": "code",
            "execution_count": 5,
            "metadata": {},
            "outputs": [
                {
                    "data": {
                        "text/plain": "(array([136485.,      0.,      0.,      0.,      0.,      0.,      0.,\n             0.,      0.,  58188.]),\n array([1. , 1.1, 1.2, 1.3, 1.4, 1.5, 1.6, 1.7, 1.8, 1.9, 2. ]),\n <a list of 10 Patch objects>)"
                    },
                    "execution_count": 5,
                    "metadata": {},
                    "output_type": "execute_result"
                },
                {
                    "data": {
                        "image/png": "[encoded data removed]",
                        "text/plain": "<Figure size 432x288 with 1 Axes>"
                    },
                    "metadata": {
                        "needs_background": "light"
                    },
                    "output_type": "display_data"
                }
            ],
            "source": "Y=df_collision['SEVERITYCODE'].values\nplt.hist(Y)"
        },
        {
            "cell_type": "code",
            "execution_count": 6,
            "metadata": {},
            "outputs": [
                {
                    "name": "stderr",
                    "output_type": "stream",
                    "text": "/opt/conda/envs/Python36/lib/python3.6/site-packages/pandas/core/generic.py:6130: SettingWithCopyWarning: \nA value is trying to be set on a copy of a slice from a DataFrame\n\nSee the caveats in the documentation: http://pandas.pydata.org/pandas-docs/stable/indexing.html#indexing-view-versus-copy\n  self._update_inplace(new_data)\n/opt/conda/envs/Python36/lib/python3.6/site-packages/pandas/core/generic.py:6586: SettingWithCopyWarning: \nA value is trying to be set on a copy of a slice from a DataFrame\n\nSee the caveats in the documentation: http://pandas.pydata.org/pandas-docs/stable/indexing.html#indexing-view-versus-copy\n  self._update_inplace(new_data)\n"
                }
            ],
            "source": "##Now we need to pre-process X\n\n#Let's start with INATTENTION column\n#X['INATTENTIONIND'].unique()\n#The output is [nan, 'Y'] but it should be Y/N only, so we're converting Y->1 and nan->0\nX['INATTENTIONIND'].fillna(0, inplace=True)\nX['INATTENTIONIND'].replace('Y',1, inplace=True)\n\nX['UNDERINFL'].unique() \n#The ouput is ['N', '0', nan, '1', 'Y'] but we only want yes and no without the need to know if it's drug or alcohol, so we'll convert anything to 0 and 1\nX['UNDERINFL'].replace('Y',1, inplace=True)\nX['UNDERINFL'].replace('1',1, inplace=True)\nX['UNDERINFL'].replace('N',0, inplace=True)\nX['UNDERINFL'].replace('0',0, inplace=True)\n#check how many nan\nX['UNDERINFL'].isna().sum() #4884 rows, a lot. Let's say no drug or alcohol is involved. Innocence until proven guilty.\nX['UNDERINFL'].fillna(0, inplace=True) \n\n#Now let's work on speeding\nX['SPEEDING'].unique()\n#Again we have [nan, 'Y'] instead of Y/N\nX['SPEEDING'].fillna(0, inplace=True)\nX['SPEEDING'].replace('Y',1, inplace=True)\n"
        },
        {
            "cell_type": "code",
            "execution_count": 41,
            "metadata": {},
            "outputs": [
                {
                    "data": {
                        "text/html": "<div>\n<style scoped>\n    .dataframe tbody tr th:only-of-type {\n        vertical-align: middle;\n    }\n\n    .dataframe tbody tr th {\n        vertical-align: top;\n    }\n\n    .dataframe thead th {\n        text-align: right;\n    }\n</style>\n<table border=\"1\" class=\"dataframe\">\n  <thead>\n    <tr style=\"text-align: right;\">\n      <th></th>\n      <th>INATTENTIONIND</th>\n      <th>UNDERINFL</th>\n      <th>SPEEDING</th>\n      <th>Blowing Sand/Dirt</th>\n      <th>Clear</th>\n      <th>Fog/Smog/Smoke</th>\n      <th>Other</th>\n      <th>Overcast</th>\n      <th>Partly Cloudy</th>\n      <th>Raining</th>\n      <th>...</th>\n      <th>Wet</th>\n      <th>Dark - No Street Lights</th>\n      <th>Dark - Street Lights Off</th>\n      <th>Dark - Street Lights On</th>\n      <th>Dark - Unknown Lighting</th>\n      <th>Dawn</th>\n      <th>Daylight</th>\n      <th>Dusk</th>\n      <th>Other</th>\n      <th>Unknown</th>\n    </tr>\n  </thead>\n  <tbody>\n    <tr>\n      <th>0</th>\n      <td>0</td>\n      <td>0.0</td>\n      <td>0</td>\n      <td>0</td>\n      <td>0</td>\n      <td>0</td>\n      <td>0</td>\n      <td>1</td>\n      <td>0</td>\n      <td>0</td>\n      <td>...</td>\n      <td>1</td>\n      <td>0</td>\n      <td>0</td>\n      <td>0</td>\n      <td>0</td>\n      <td>0</td>\n      <td>1</td>\n      <td>0</td>\n      <td>0</td>\n      <td>0</td>\n    </tr>\n    <tr>\n      <th>1</th>\n      <td>0</td>\n      <td>0.0</td>\n      <td>0</td>\n      <td>0</td>\n      <td>0</td>\n      <td>0</td>\n      <td>0</td>\n      <td>0</td>\n      <td>0</td>\n      <td>1</td>\n      <td>...</td>\n      <td>1</td>\n      <td>0</td>\n      <td>0</td>\n      <td>1</td>\n      <td>0</td>\n      <td>0</td>\n      <td>0</td>\n      <td>0</td>\n      <td>0</td>\n      <td>0</td>\n    </tr>\n    <tr>\n      <th>2</th>\n      <td>0</td>\n      <td>0.0</td>\n      <td>0</td>\n      <td>0</td>\n      <td>0</td>\n      <td>0</td>\n      <td>0</td>\n      <td>1</td>\n      <td>0</td>\n      <td>0</td>\n      <td>...</td>\n      <td>0</td>\n      <td>0</td>\n      <td>0</td>\n      <td>0</td>\n      <td>0</td>\n      <td>0</td>\n      <td>1</td>\n      <td>0</td>\n      <td>0</td>\n      <td>0</td>\n    </tr>\n    <tr>\n      <th>3</th>\n      <td>0</td>\n      <td>0.0</td>\n      <td>0</td>\n      <td>0</td>\n      <td>1</td>\n      <td>0</td>\n      <td>0</td>\n      <td>0</td>\n      <td>0</td>\n      <td>0</td>\n      <td>...</td>\n      <td>0</td>\n      <td>0</td>\n      <td>0</td>\n      <td>0</td>\n      <td>0</td>\n      <td>0</td>\n      <td>1</td>\n      <td>0</td>\n      <td>0</td>\n      <td>0</td>\n    </tr>\n    <tr>\n      <th>4</th>\n      <td>0</td>\n      <td>0.0</td>\n      <td>0</td>\n      <td>0</td>\n      <td>0</td>\n      <td>0</td>\n      <td>0</td>\n      <td>0</td>\n      <td>0</td>\n      <td>1</td>\n      <td>...</td>\n      <td>1</td>\n      <td>0</td>\n      <td>0</td>\n      <td>0</td>\n      <td>0</td>\n      <td>0</td>\n      <td>1</td>\n      <td>0</td>\n      <td>0</td>\n      <td>0</td>\n    </tr>\n  </tbody>\n</table>\n<p>5 rows \u00d7 32 columns</p>\n</div>",
                        "text/plain": "   INATTENTIONIND  UNDERINFL  SPEEDING  Blowing Sand/Dirt  Clear  \\\n0               0        0.0         0                  0      0   \n1               0        0.0         0                  0      0   \n2               0        0.0         0                  0      0   \n3               0        0.0         0                  0      1   \n4               0        0.0         0                  0      0   \n\n   Fog/Smog/Smoke  Other  Overcast  Partly Cloudy  Raining  ...  Wet  \\\n0               0      0         1              0        0  ...    1   \n1               0      0         0              0        1  ...    1   \n2               0      0         1              0        0  ...    0   \n3               0      0         0              0        0  ...    0   \n4               0      0         0              0        1  ...    1   \n\n   Dark - No Street Lights  Dark - Street Lights Off  Dark - Street Lights On  \\\n0                        0                         0                        0   \n1                        0                         0                        1   \n2                        0                         0                        0   \n3                        0                         0                        0   \n4                        0                         0                        0   \n\n   Dark - Unknown Lighting  Dawn  Daylight  Dusk  Other  Unknown  \n0                        0     0         1     0      0        0  \n1                        0     0         0     0      0        0  \n2                        0     0         1     0      0        0  \n3                        0     0         1     0      0        0  \n4                        0     0         1     0      0        0  \n\n[5 rows x 32 columns]"
                    },
                    "execution_count": 41,
                    "metadata": {},
                    "output_type": "execute_result"
                }
            ],
            "source": "X=pd.concat([X,pd.get_dummies(df_collision['WEATHER'])], axis=1)\nX=pd.concat([X,pd.get_dummies(df_collision['ROADCOND'])], axis=1)\nX=pd.concat([X,pd.get_dummies(df_collision['LIGHTCOND'])], axis=1)\nX.head()"
        },
        {
            "cell_type": "code",
            "execution_count": 7,
            "metadata": {},
            "outputs": [
                {
                    "data": {
                        "text/html": "<div>\n<style scoped>\n    .dataframe tbody tr th:only-of-type {\n        vertical-align: middle;\n    }\n\n    .dataframe tbody tr th {\n        vertical-align: top;\n    }\n\n    .dataframe thead th {\n        text-align: right;\n    }\n</style>\n<table border=\"1\" class=\"dataframe\">\n  <thead>\n    <tr style=\"text-align: right;\">\n      <th></th>\n      <th>INATTENTIONIND</th>\n      <th>UNDERINFL</th>\n      <th>SPEEDING</th>\n      <th>WEATHER</th>\n      <th>ROADCOND</th>\n      <th>LIGHTCOND</th>\n    </tr>\n  </thead>\n  <tbody>\n    <tr>\n      <th>0</th>\n      <td>0</td>\n      <td>0.0</td>\n      <td>0</td>\n      <td>2</td>\n      <td>Wet</td>\n      <td>Daylight</td>\n    </tr>\n    <tr>\n      <th>1</th>\n      <td>0</td>\n      <td>0.0</td>\n      <td>0</td>\n      <td>3</td>\n      <td>Wet</td>\n      <td>Dark - Street Lights On</td>\n    </tr>\n    <tr>\n      <th>2</th>\n      <td>0</td>\n      <td>0.0</td>\n      <td>0</td>\n      <td>2</td>\n      <td>Dry</td>\n      <td>Daylight</td>\n    </tr>\n    <tr>\n      <th>3</th>\n      <td>0</td>\n      <td>0.0</td>\n      <td>0</td>\n      <td>1</td>\n      <td>Dry</td>\n      <td>Daylight</td>\n    </tr>\n    <tr>\n      <th>4</th>\n      <td>0</td>\n      <td>0.0</td>\n      <td>0</td>\n      <td>3</td>\n      <td>Wet</td>\n      <td>Daylight</td>\n    </tr>\n  </tbody>\n</table>\n</div>",
                        "text/plain": "   INATTENTIONIND  UNDERINFL  SPEEDING  WEATHER ROADCOND  \\\n0               0        0.0         0        2      Wet   \n1               0        0.0         0        3      Wet   \n2               0        0.0         0        2      Dry   \n3               0        0.0         0        1      Dry   \n4               0        0.0         0        3      Wet   \n\n                 LIGHTCOND  \n0                 Daylight  \n1  Dark - Street Lights On  \n2                 Daylight  \n3                 Daylight  \n4                 Daylight  "
                    },
                    "execution_count": 7,
                    "metadata": {},
                    "output_type": "execute_result"
                }
            ],
            "source": "#Now we look into how to procss the columns with text input\n\nX['WEATHER'].unique()\n\n#So the result is \n#['Overcast', 'Raining', 'Clear', nan, 'Unknown', 'Other', 'Snowing',\n#       'Fog/Smog/Smoke', 'Sleet/Hail/Freezing Rain', 'Blowing Sand/Dirt',\n#       'Severe Crosswind', 'Partly Cloudy'\n\n#We should be able to group these inputs in the 3 categories: not an obstruction to driving (0), obstruction to driving (1), and unknown (2)\n# (2) nan, 'Unknown', 'Other'\n# (0)'Clear', 'Overcast', Partly Cloudy'\n# (1)'Snowing', 'Fog/Smog/Smoke', 'Sleet/Hail/Freezing Rain', 'Blowing Sand/Dirt', 'Severe Crosswind', 'Raining'\n\n#Unknown category\nX['WEATHER'].fillna(0, inplace=True)\nX['WEATHER'].replace('Unknown',0, inplace=True)\nX['WEATHER'].replace('Other',0, inplace=True)\n\n#Clear category\nX['WEATHER'].replace('Clear',1, inplace=True)\n\n#Dim category\nX['WEATHER'].replace('Overcast',2, inplace=True)\nX['WEATHER'].replace('Partly Cloudy',2, inplace=True)\n\n#visually obstructive\nX['WEATHER'].replace('Snowing',3, inplace=True)\nX['WEATHER'].replace('Fog/Smog/Smoke',3, inplace=True)\nX['WEATHER'].replace('Blowing Sand/Dirt',3, inplace=True)\nX['WEATHER'].replace('Raining',3, inplace=True)\nX['WEATHER'].replace('Sleet/Hail/Freezing Rain',3, inplace=True)\n\n#control obstructive\nX['WEATHER'].replace('Severe Crosswind',4, inplace=True)\n\nX.head()"
        },
        {
            "cell_type": "code",
            "execution_count": 8,
            "metadata": {},
            "outputs": [
                {
                    "data": {
                        "text/html": "<div>\n<style scoped>\n    .dataframe tbody tr th:only-of-type {\n        vertical-align: middle;\n    }\n\n    .dataframe tbody tr th {\n        vertical-align: top;\n    }\n\n    .dataframe thead th {\n        text-align: right;\n    }\n</style>\n<table border=\"1\" class=\"dataframe\">\n  <thead>\n    <tr style=\"text-align: right;\">\n      <th></th>\n      <th>INATTENTIONIND</th>\n      <th>UNDERINFL</th>\n      <th>SPEEDING</th>\n      <th>WEATHER</th>\n      <th>ROADCOND</th>\n      <th>LIGHTCOND</th>\n    </tr>\n  </thead>\n  <tbody>\n    <tr>\n      <th>0</th>\n      <td>0</td>\n      <td>0.0</td>\n      <td>0</td>\n      <td>2</td>\n      <td>2</td>\n      <td>Daylight</td>\n    </tr>\n    <tr>\n      <th>1</th>\n      <td>0</td>\n      <td>0.0</td>\n      <td>0</td>\n      <td>3</td>\n      <td>2</td>\n      <td>Dark - Street Lights On</td>\n    </tr>\n    <tr>\n      <th>2</th>\n      <td>0</td>\n      <td>0.0</td>\n      <td>0</td>\n      <td>2</td>\n      <td>1</td>\n      <td>Daylight</td>\n    </tr>\n    <tr>\n      <th>3</th>\n      <td>0</td>\n      <td>0.0</td>\n      <td>0</td>\n      <td>1</td>\n      <td>1</td>\n      <td>Daylight</td>\n    </tr>\n    <tr>\n      <th>4</th>\n      <td>0</td>\n      <td>0.0</td>\n      <td>0</td>\n      <td>3</td>\n      <td>2</td>\n      <td>Daylight</td>\n    </tr>\n  </tbody>\n</table>\n</div>",
                        "text/plain": "   INATTENTIONIND  UNDERINFL  SPEEDING  WEATHER  ROADCOND  \\\n0               0        0.0         0        2         2   \n1               0        0.0         0        3         2   \n2               0        0.0         0        2         1   \n3               0        0.0         0        1         1   \n4               0        0.0         0        3         2   \n\n                 LIGHTCOND  \n0                 Daylight  \n1  Dark - Street Lights On  \n2                 Daylight  \n3                 Daylight  \n4                 Daylight  "
                    },
                    "execution_count": 8,
                    "metadata": {},
                    "output_type": "execute_result"
                }
            ],
            "source": "X['ROADCOND'].unique()\n\n#The result is \n# ['Wet', 'Dry', nan, 'Unknown', 'Snow/Slush', 'Ice', 'Other',\n#       'Sand/Mud/Dirt', 'Standing Water', 'Oil']\n\n#Again, let's divide into 3 categories\n# (2) nan, 'Unknown', 'Other',\n# (0) 'Dry',\n# (1) 'Wet', 'Snow/Slush', 'Ice', 'Sand/Mud/Dirt', 'Standing Water', 'Oil'\n\n#Unknown category\nX['ROADCOND'].fillna(0, inplace=True)\nX['ROADCOND'].replace('Unknown',0, inplace=True)\nX['ROADCOND'].replace('Other',0, inplace=True)\n\n#Clear category\nX['ROADCOND'].replace('Dry',1, inplace=True)\n\n#Obstructive\nX['ROADCOND'].replace('Wet',2, inplace=True)\nX['ROADCOND'].replace('Snow/Slush',2, inplace=True)\nX['ROADCOND'].replace('Ice',2, inplace=True)\nX['ROADCOND'].replace('Sand/Mud/Dirt',2, inplace=True)\nX['ROADCOND'].replace('Standing Water',2, inplace=True)\nX['ROADCOND'].replace('Oil',2, inplace=True)\n    \nX.head()"
        },
        {
            "cell_type": "code",
            "execution_count": 9,
            "metadata": {},
            "outputs": [
                {
                    "data": {
                        "text/html": "<div>\n<style scoped>\n    .dataframe tbody tr th:only-of-type {\n        vertical-align: middle;\n    }\n\n    .dataframe tbody tr th {\n        vertical-align: top;\n    }\n\n    .dataframe thead th {\n        text-align: right;\n    }\n</style>\n<table border=\"1\" class=\"dataframe\">\n  <thead>\n    <tr style=\"text-align: right;\">\n      <th></th>\n      <th>INATTENTIONIND</th>\n      <th>UNDERINFL</th>\n      <th>SPEEDING</th>\n      <th>WEATHER</th>\n      <th>ROADCOND</th>\n      <th>LIGHTCOND</th>\n    </tr>\n  </thead>\n  <tbody>\n    <tr>\n      <th>0</th>\n      <td>0</td>\n      <td>0.0</td>\n      <td>0</td>\n      <td>2</td>\n      <td>2</td>\n      <td>1</td>\n    </tr>\n    <tr>\n      <th>1</th>\n      <td>0</td>\n      <td>0.0</td>\n      <td>0</td>\n      <td>3</td>\n      <td>2</td>\n      <td>2</td>\n    </tr>\n    <tr>\n      <th>2</th>\n      <td>0</td>\n      <td>0.0</td>\n      <td>0</td>\n      <td>2</td>\n      <td>1</td>\n      <td>1</td>\n    </tr>\n    <tr>\n      <th>3</th>\n      <td>0</td>\n      <td>0.0</td>\n      <td>0</td>\n      <td>1</td>\n      <td>1</td>\n      <td>1</td>\n    </tr>\n    <tr>\n      <th>4</th>\n      <td>0</td>\n      <td>0.0</td>\n      <td>0</td>\n      <td>3</td>\n      <td>2</td>\n      <td>1</td>\n    </tr>\n  </tbody>\n</table>\n</div>",
                        "text/plain": "   INATTENTIONIND  UNDERINFL  SPEEDING  WEATHER  ROADCOND  LIGHTCOND\n0               0        0.0         0        2         2          1\n1               0        0.0         0        3         2          2\n2               0        0.0         0        2         1          1\n3               0        0.0         0        1         1          1\n4               0        0.0         0        3         2          1"
                    },
                    "execution_count": 9,
                    "metadata": {},
                    "output_type": "execute_result"
                }
            ],
            "source": "X['LIGHTCOND'].unique()\n\n#The result is ['Daylight', 'Dark - Street Lights On', 'Dark - No Street Lights',\n#       nan, 'Unknown', 'Dusk', 'Dawn', 'Dark - Street Lights Off',\n#       'Other', 'Dark - Unknown Lighting']\n\n# Our categories are: unknown (2), with light source (0), without light source (1)\n# (2) nan, 'Unknown',  'Other', 'Dark - Unknown Lighting'\n# (0) 'Daylight', 'Dark - Street Lights On', 'Dusk', 'Dawn',\n# (1) 'Dark - No Street Lights', 'Dark - Street Lights Off',\n\n#Unknown category\nX['LIGHTCOND'].fillna(0, inplace=True)\nX['LIGHTCOND'].replace('Unknown',0, inplace=True)\nX['LIGHTCOND'].replace('Other',0, inplace=True)\nX['LIGHTCOND'].replace('Dark - Unknown Lighting',0, inplace=True)\n\n#Clear category\nX['LIGHTCOND'].replace('Daylight',1, inplace=True)\n\n#Dim category\nX['LIGHTCOND'].replace('Dark - Street Lights On',2, inplace=True)\nX['LIGHTCOND'].replace('Dusk',2, inplace=True)\nX['LIGHTCOND'].replace('Dawn',2, inplace=True)\n\n#Obstructive\nX['LIGHTCOND'].replace('Dark - No Street Lights',3, inplace=True)\nX['LIGHTCOND'].replace('Dark - Street Lights Off',3, inplace=True)\n    \nX.head()"
        },
        {
            "cell_type": "markdown",
            "metadata": {},
            "source": "### Method of data modeling ###\n\nSince the attributes and the target are categorical, the best model to be used is a clssification. There are several classification models, but sticking to the model covered in this course, we will choose one from K nearest neighbour, decision tree, logistic regression, or support vector machine.\n\nIn order to measure how well each model is performing, we use the Jaccard similarity score and F1 score. These measures are also used to compare between models to pick the one that best predicts the severity of the collision on the test data."
        },
        {
            "cell_type": "code",
            "execution_count": 10,
            "metadata": {},
            "outputs": [],
            "source": "#include libraries for learning\nfrom sklearn import preprocessing\nfrom sklearn.model_selection import train_test_split\nfrom sklearn import metrics\nfrom sklearn.metrics import jaccard_similarity_score\nfrom sklearn.metrics import f1_score\n\nfrom sklearn.neighbors import KNeighborsClassifier\nfrom sklearn.tree import DecisionTreeClassifier\nfrom sklearn import svm\nfrom sklearn.linear_model import LogisticRegression"
        },
        {
            "cell_type": "code",
            "execution_count": 11,
            "metadata": {},
            "outputs": [
                {
                    "name": "stdout",
                    "output_type": "stream",
                    "text": "Train set: (136271, 6) (136271,)\nTest set: (58402, 6) (58402,)\n"
                }
            ],
            "source": "#splitting data into training and testing set\nX_train, X_test, y_train, y_test = train_test_split( X, Y, test_size=0.3, random_state=4)\nprint ('Train set:', X_train.shape,  y_train.shape)\nprint ('Test set:', X_test.shape,  y_test.shape)"
        },
        {
            "cell_type": "code",
            "execution_count": 12,
            "metadata": {},
            "outputs": [],
            "source": "#Here are the arrays to keep the values from each model\nalgorithm=('KNN','Decision Tree','SVM','Logistic Regression')\njaccard=[0 for i in range(len(algorithm))]\nf1=[0 for i in range(len(algorithm))]"
        },
        {
            "cell_type": "markdown",
            "metadata": {},
            "source": "#### Testing KNN model ####\n\nIn the first part, we determine the best number of nearest neighbors for the model. In this case, we are going to use Jaccard similary score to quantify the quality of the models."
        },
        {
            "cell_type": "code",
            "execution_count": 17,
            "metadata": {},
            "outputs": [
                {
                    "name": "stdout",
                    "output_type": "stream",
                    "text": "The best k value is 2 at training accuracy of 0.6862795459048514  and testing accuracy of 0.6911578370603746\n"
                },
                {
                    "data": {
                        "text/plain": "[<matplotlib.lines.Line2D at 0x7f57772b5f98>]"
                    },
                    "execution_count": 17,
                    "metadata": {},
                    "output_type": "execute_result"
                },
                {
                    "data": {
                        "image/png": "[encoded data removed]",
                        "text/plain": "<Figure size 432x288 with 1 Axes>"
                    },
                    "metadata": {
                        "needs_background": "light"
                    },
                    "output_type": "display_data"
                }
            ],
            "source": "training_accuracy=[0 for i in range (1,25)]\ntesting_accuracy=[0 for i in range (1,25)]\nfor k in range(1,10):\n    neigh = KNeighborsClassifier(n_neighbors = k).fit(X_train,y_train)\n    yhat = neigh.predict(X_test)\n    training_accuracy[k-1]=jaccard_similarity_score(y_train, neigh.predict(X_train))\n    testing_accuracy[k-1]=jaccard_similarity_score(y_test, yhat)\n    #training_accuracy[k-1]=metrics.accuracy_score(y_train, neigh.predict(X_train))\n    #testing_accuracy[k-1]=metrics.accuracy_score(y_test, yhat)\n    #print(\"k=\",k, \",\", training_accuracy[k-1],\",\",testing_accuracy[k-1])\n    \nk=[i for i in range(1,15)]        \nprint(\"The best k value is\",k[np.argmax(testing_accuracy)], \"at training accuracy of\", training_accuracy[np.argmax(testing_accuracy)], \" and testing accuracy of\", testing_accuracy[np.argmax(testing_accuracy)])   \nplt.plot(k,testing_accuracy)"
        },
        {
            "cell_type": "markdown",
            "metadata": {},
            "source": "Once we have the best k within the range determined, we pass the value of k onward to the next part where the F1 score and the Jaccard index for the model are calculated."
        },
        {
            "cell_type": "code",
            "execution_count": 14,
            "metadata": {},
            "outputs": [],
            "source": "#Now let's run the model at the optimal k and get the values\nkk=2\n#kk=k[np.argmax(testing_accuracy)]\nneigh = KNeighborsClassifier(n_neighbors = kk).fit(X_train,y_train)\nalg=0\nyhat = neigh.predict(X_test)\nf1[alg]=f1_score(y_test, yhat, average='weighted')\njaccard[alg]=jaccard_similarity_score(y_test, yhat)"
        },
        {
            "cell_type": "code",
            "execution_count": 15,
            "metadata": {},
            "outputs": [
                {
                    "name": "stdout",
                    "output_type": "stream",
                    "text": "0.5886005197569327 0.7022362247868223\n"
                }
            ],
            "source": "print(f1[alg],jaccard[alg])"
        },
        {
            "cell_type": "markdown",
            "metadata": {},
            "source": "#### Testing decision tree model ####\n\nFor the decision tree model, the metaparameter we are validating is the tree depth. Once the best depth is determined from the range, we pass the depth to the model that calculate the F1 score and the Jaccard index, as before.\n"
        },
        {
            "cell_type": "code",
            "execution_count": 53,
            "metadata": {},
            "outputs": [
                {
                    "name": "stdout",
                    "output_type": "stream",
                    "text": "The best k value is 3  at testing accuracy of 0.703623163590288\n"
                },
                {
                    "data": {
                        "text/plain": "[<matplotlib.lines.Line2D at 0x7f811a001f60>]"
                    },
                    "execution_count": 53,
                    "metadata": {},
                    "output_type": "execute_result"
                },
                {
                    "data": {
                        "image/png": "[encoded data removed]",
                        "text/plain": "<Figure size 432x288 with 1 Axes>"
                    },
                    "metadata": {
                        "needs_background": "light"
                    },
                    "output_type": "display_data"
                }
            ],
            "source": "testing_accuracy=[0 for i in range(2,25)]\nfor k in range(2,25):\n    Tree = DecisionTreeClassifier(criterion=\"entropy\", max_depth = k)\n    Tree.fit(X_train,y_train)\n    predTree = Tree.predict(X_test)\n    testing_accuracy[k-5]=jaccard_similarity_score(y_test, predTree)\n    #print(\"k=\",k, testing_accuracy[k-5])\n\nk=[i for i in range(2,25)]\nprint(\"The best k value is\",k[np.argmax(testing_accuracy)], \" at testing accuracy of\", max(testing_accuracy))   \nplt.plot(k,testing_accuracy)"
        },
        {
            "cell_type": "code",
            "execution_count": 16,
            "metadata": {},
            "outputs": [
                {
                    "name": "stderr",
                    "output_type": "stream",
                    "text": "/opt/conda/envs/Python36/lib/python3.6/site-packages/sklearn/metrics/classification.py:1143: UndefinedMetricWarning: F-score is ill-defined and being set to 0.0 in labels with no predicted samples.\n  'precision', 'predicted', average, warn_for)\n"
                }
            ],
            "source": "kk=k[np.argmax(testing_accuracy)]\nTree = DecisionTreeClassifier(criterion=\"entropy\", max_depth = kk)\nTree.fit(X_train,y_train)\nalg=1\nyhat = Tree.predict(X_test)\nf1[alg]=f1_score(y_test, yhat, average='weighted')\njaccard[alg]=jaccard_similarity_score(y_test, yhat)"
        },
        {
            "cell_type": "code",
            "execution_count": 17,
            "metadata": {},
            "outputs": [
                {
                    "name": "stdout",
                    "output_type": "stream",
                    "text": "0.5809904188654375 0.7034519365775145\n"
                }
            ],
            "source": "print(f1[alg],jaccard[alg])"
        },
        {
            "cell_type": "markdown",
            "metadata": {},
            "source": "#### Testing Support Vector Machine ####\n\nThe SVM's metaparameter is the kernel, which are 'rbf','linear','sigmoid', and 'poly' in sklearn library."
        },
        {
            "cell_type": "code",
            "execution_count": 18,
            "metadata": {},
            "outputs": [
                {
                    "name": "stdout",
                    "output_type": "stream",
                    "text": "0.7034519365775145\n"
                }
            ],
            "source": "clf = svm.SVC(kernel='linear') #change the kernel to test which one gives the best accuracy\nclf.fit(X_train, y_train) \nyhat = clf.predict(X_test)\nprint(jaccard_similarity_score(y_test, yhat))"
        },
        {
            "cell_type": "markdown",
            "metadata": {},
            "source": "linear: 0.7034519365775145\n\npoly: 0.7034519365775145\n\nsigmoid: 0.6913975548782576\n\nrbf: 0.7034519365775145\n\nIn this case, aside from the sigmoid kernel, there is no difference in the Jaccard index from other kernels, so we pick linear kernel for simplicity."
        },
        {
            "cell_type": "code",
            "execution_count": 19,
            "metadata": {},
            "outputs": [
                {
                    "name": "stderr",
                    "output_type": "stream",
                    "text": "/opt/conda/envs/Python36/lib/python3.6/site-packages/sklearn/metrics/classification.py:1143: UndefinedMetricWarning: F-score is ill-defined and being set to 0.0 in labels with no predicted samples.\n  'precision', 'predicted', average, warn_for)\n"
                }
            ],
            "source": "clf = svm.SVC(kernel='linear') #kernel=['rbf','linear','sigmoid','poly']\nclf.fit(X_train, y_train) \nalg=2\nyhat=clf.predict(X_test)\nf1[alg]=f1_score(y_test, yhat, average='weighted')\njaccard[alg]=jaccard_similarity_score(y_test, yhat)"
        },
        {
            "cell_type": "code",
            "execution_count": 20,
            "metadata": {},
            "outputs": [
                {
                    "name": "stdout",
                    "output_type": "stream",
                    "text": "0.5809904188654375 0.7034519365775145\n"
                }
            ],
            "source": "print(f1[alg],jaccard[alg])"
        },
        {
            "cell_type": "markdown",
            "metadata": {},
            "source": "#### Testing logistic regression model ####\n\nFor logistic regression model, we tune the C parameter to see if the Jaccard index or the F1 score changes. We do not use the log loss function for this work as it does not apply to other models."
        },
        {
            "cell_type": "code",
            "execution_count": 21,
            "metadata": {},
            "outputs": [
                {
                    "name": "stdout",
                    "output_type": "stream",
                    "text": "cc= 0.1 : 0.581460351085523 , 0.7029211328379165\ncc= 0.30000000000000004 : 0.581672520348363 , 0.7029040101366392\ncc= 0.7000000000000001 : 0.581672520348363 , 0.7029040101366392\ncc= 1.3000000000000003 : 0.581672520348363 , 0.7029040101366392\ncc= 2.1000000000000005 : 0.581672520348363 , 0.7029040101366392\ncc= 3.1000000000000005 : 0.581672520348363 , 0.7029040101366392\ncc= 4.300000000000001 : 0.581672520348363 , 0.7029040101366392\ncc= 5.700000000000001 : 0.581672520348363 , 0.7029040101366392\ncc= 7.300000000000001 : 0.581672520348363 , 0.7029040101366392\ncc= 9.100000000000001 : 0.581672520348363 , 0.7029040101366392\ncc= 11.100000000000001 : 0.581672520348363 , 0.7029040101366392\ncc= 13.3 : 0.581672520348363 , 0.7029040101366392\ncc= 15.700000000000001 : 0.581672520348363 , 0.7029040101366392\ncc= 18.3 : 0.581672520348363 , 0.7029040101366392\ncc= 21.1 : 0.581672520348363 , 0.7029040101366392\ncc= 24.1 : 0.581672520348363 , 0.7029040101366392\ncc= 27.3 : 0.581672520348363 , 0.7029040101366392\ncc= 30.700000000000003 : 0.581672520348363 , 0.7029040101366392\ncc= 34.300000000000004 : 0.581672520348363 , 0.7029040101366392\ncc= 38.1 : 0.581672520348363 , 0.7029040101366392\n"
                },
                {
                    "data": {
                        "text/plain": "[<matplotlib.lines.Line2D at 0x7f442c6dc198>,\n <matplotlib.lines.Line2D at 0x7f442c6dc358>]"
                    },
                    "execution_count": 21,
                    "metadata": {},
                    "output_type": "execute_result"
                },
                {
                    "data": {
                        "image/png": "[encoded data removed]",
                        "text/plain": "<Figure size 432x288 with 1 Axes>"
                    },
                    "metadata": {
                        "needs_background": "light"
                    },
                    "output_type": "display_data"
                }
            ],
            "source": "cc=0.1\n\nC_value=[0 for i in range (20)]\nf_one=[0 for i in range (20)]\njac=[0 for i in range (20)]\nfor i in range(20):\n    cc=cc+i*0.2\n    C_value[i]=cc\n    LR = LogisticRegression(C=cc, solver='liblinear').fit(X_train,y_train)\n    yhat = LR.predict(X_test)\n    f_one[i]=f1_score(y_test, yhat, average='weighted')\n    jac[i]=jaccard_similarity_score(y_test, yhat)\n    print(\"cc=\",cc,\":\",f_one[i],\",\",jac[i])\n    \nplt.plot(C_value,f_one,C_value,jac)\n"
        },
        {
            "cell_type": "markdown",
            "metadata": {},
            "source": "Since the c value clearly does not matter here, we use the first value for the computing F1 score and Jaccard index."
        },
        {
            "cell_type": "code",
            "execution_count": 22,
            "metadata": {},
            "outputs": [],
            "source": "cc=0.1 #c value clearly doesn't matter here\nLR = LogisticRegression(C=cc, solver='liblinear').fit(X_train,y_train)\nalg=3\nyhat = LR.predict(X_test)\nf1[alg]=f1_score(y_test, yhat, average='weighted')\njaccard[alg]=jaccard_similarity_score(y_test, yhat)"
        },
        {
            "cell_type": "code",
            "execution_count": 23,
            "metadata": {},
            "outputs": [
                {
                    "name": "stdout",
                    "output_type": "stream",
                    "text": "0.581460351085523 0.7029211328379165\n"
                }
            ],
            "source": "print(f1[alg],jaccard[alg])"
        },
        {
            "cell_type": "markdown",
            "metadata": {},
            "source": "## Results ##\n\nThe Jaccard index and the F1 score of the four models are as follows."
        },
        {
            "cell_type": "code",
            "execution_count": 24,
            "metadata": {},
            "outputs": [
                {
                    "data": {
                        "text/html": "<div>\n<style scoped>\n    .dataframe tbody tr th:only-of-type {\n        vertical-align: middle;\n    }\n\n    .dataframe tbody tr th {\n        vertical-align: top;\n    }\n\n    .dataframe thead th {\n        text-align: right;\n    }\n</style>\n<table border=\"1\" class=\"dataframe\">\n  <thead>\n    <tr style=\"text-align: right;\">\n      <th></th>\n      <th>Jaccard</th>\n      <th>F1-score</th>\n    </tr>\n    <tr>\n      <th>Algorithm</th>\n      <th></th>\n      <th></th>\n    </tr>\n  </thead>\n  <tbody>\n    <tr>\n      <th>KNN</th>\n      <td>0.702236</td>\n      <td>0.588601</td>\n    </tr>\n    <tr>\n      <th>Decision Tree</th>\n      <td>0.703452</td>\n      <td>0.580990</td>\n    </tr>\n    <tr>\n      <th>SVM</th>\n      <td>0.703452</td>\n      <td>0.580990</td>\n    </tr>\n    <tr>\n      <th>Logistic Regression</th>\n      <td>0.702921</td>\n      <td>0.581460</td>\n    </tr>\n  </tbody>\n</table>\n</div>",
                        "text/plain": "                      Jaccard  F1-score\nAlgorithm                              \nKNN                  0.702236  0.588601\nDecision Tree        0.703452  0.580990\nSVM                  0.703452  0.580990\nLogistic Regression  0.702921  0.581460"
                    },
                    "execution_count": 24,
                    "metadata": {},
                    "output_type": "execute_result"
                }
            ],
            "source": "accuracy=list(zip(jaccard,f1))\nmetric_df=pd.DataFrame(data=accuracy, index=algorithm, columns=('Jaccard','F1-score'))\nmetric_df = metric_df.rename_axis(index='Algorithm')\nmetric_df"
        },
        {
            "cell_type": "markdown",
            "metadata": {},
            "source": "The Jaccard indices are consistently higher than the F1 score with the one from the decision tree and SVM being two equally highest. In the case of the F1 score, however, the F1-scores are the smallest for decision tree and SVM. Instead, the model with the highest F1-score is KNN."
        },
        {
            "cell_type": "markdown",
            "metadata": {},
            "source": "## Discussion ##\n\nWhat the Jaccard indices show is that the prediction is 70% accurate on the test set for all the models. However, the low F1 scores suggest that the classifiers produce significant probabilities of false positives or negatives, as F1 score is weighted by a factor involved these two values.\n\nThe reason for the low F1 score is obvious, as we do not use F1 score for the optimization, as such the classifiers do not prioritize lowering the false positive or negative classification.\n\nSince the values of the Jaccard indices are very close to each other, we conclude here that this is the highest accuracy achievable using the current data form and learning method. We then select the model based on the F1-score, which shows that KNN provides the highest F1 score.\n"
        },
        {
            "cell_type": "markdown",
            "metadata": {},
            "source": "## Conclusion ##"
        },
        {
            "cell_type": "code",
            "execution_count": null,
            "metadata": {},
            "outputs": [],
            "source": ""
        }
    ],
    "metadata": {
        "kernelspec": {
            "display_name": "Python 3.6",
            "language": "python",
            "name": "python3"
        },
        "language_info": {
            "codemirror_mode": {
                "name": "ipython",
                "version": 3
            },
            "file_extension": ".py",
            "mimetype": "text/x-python",
            "name": "python",
            "nbconvert_exporter": "python",
            "pygments_lexer": "ipython3",
            "version": "3.6.9"
        }
    },
    "nbformat": 4,
    "nbformat_minor": 1
}